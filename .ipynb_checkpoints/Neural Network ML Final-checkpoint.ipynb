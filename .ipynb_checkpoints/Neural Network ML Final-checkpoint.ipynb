{
 "cells": [
  {
   "cell_type": "code",
   "execution_count": 3,
   "id": "c06dd60d",
   "metadata": {},
   "outputs": [
    {
     "name": "stdout",
     "output_type": "stream",
     "text": [
      "Collecting package metadata (current_repodata.json): done\n",
      "Solving environment: done\n",
      "\n",
      "\n",
      "==> WARNING: A newer version of conda exists. <==\n",
      "  current version: 22.11.1\n",
      "  latest version: 23.7.2\n",
      "\n",
      "Please update conda by running\n",
      "\n",
      "    $ conda update -n base -c defaults conda\n",
      "\n",
      "Or to minimize the number of packages updated during conda update use\n",
      "\n",
      "     conda install conda=23.7.2\n",
      "\n",
      "\n",
      "\n",
      "## Package Plan ##\n",
      "\n",
      "  environment location: /Users/evanhadd/opt/anaconda3\n",
      "\n",
      "  added / updated specs:\n",
      "    - conda\n",
      "\n",
      "\n",
      "The following packages will be downloaded:\n",
      "\n",
      "    package                    |            build\n",
      "    ---------------------------|-----------------\n",
      "    conda-package-handling-2.2.0|   py39hecd8cb5_0         268 KB\n",
      "    conda-package-streaming-0.9.0|   py39hecd8cb5_0          28 KB\n",
      "    conda-repo-cli-1.0.41      |   py39hecd8cb5_0         123 KB\n",
      "    zstandard-0.19.0           |   py39h6c40b1e_0         452 KB\n",
      "    ------------------------------------------------------------\n",
      "                                           Total:         872 KB\n",
      "\n",
      "The following NEW packages will be INSTALLED:\n",
      "\n",
      "  conda-package-str~ pkgs/main/osx-64::conda-package-streaming-0.9.0-py39hecd8cb5_0 \n",
      "  zstandard          pkgs/main/osx-64::zstandard-0.19.0-py39h6c40b1e_0 \n",
      "\n",
      "The following packages will be UPDATED:\n",
      "\n",
      "  conda-package-han~                   1.9.0-py39hca72f7f_0 --> 2.2.0-py39hecd8cb5_0 \n",
      "  conda-repo-cli                      1.0.20-py39hecd8cb5_0 --> 1.0.41-py39hecd8cb5_0 \n",
      "\n",
      "\n",
      "\n",
      "Downloading and Extracting Packages\n",
      "conda-package-stream | 28 KB     |                                       |   0% \n",
      "zstandard-0.19.0     | 452 KB    |                                       |   0% \u001b[A\n",
      "\n",
      "conda-repo-cli-1.0.4 | 123 KB    |                                       |   0% \u001b[A\u001b[A\n",
      "\n",
      "\n",
      "conda-package-stream | 28 KB     | ##################################### | 100% \u001b[A\u001b[A\u001b[A\n",
      "zstandard-0.19.0     | 452 KB    | #3                                    |   4% \u001b[A\n",
      "zstandard-0.19.0     | 452 KB    | #######8                              |  21% \u001b[A\n",
      "\n",
      "conda-repo-cli-1.0.4 | 123 KB    | ####8                                 |  13% \u001b[A\u001b[A\n",
      "zstandard-0.19.0     | 452 KB    | ###############7                      |  42% \u001b[A\n",
      "\n",
      "\n",
      "conda-package-handli | 268 KB    | ##2                                   |   6% \u001b[A\u001b[A\u001b[A\n",
      "\n",
      "conda-repo-cli-1.0.4 | 123 KB    | ############################9         |  78% \u001b[A\u001b[A\n",
      "zstandard-0.19.0     | 452 KB    | ####################9                 |  57% \u001b[A\n",
      "\n",
      "conda-repo-cli-1.0.4 | 123 KB    | ##################################### | 100% \u001b[A\u001b[A\n",
      "\n",
      "\n",
      "conda-package-handli | 268 KB    | #############2                        |  36% \u001b[A\u001b[A\u001b[A\n",
      "zstandard-0.19.0     | 452 KB    | ##############################        |  81% \u001b[A\n",
      "\n",
      "\n",
      "conda-package-handli | 268 KB    | ############################6         |  78% \u001b[A\u001b[A\u001b[A\n",
      "zstandard-0.19.0     | 452 KB    | ####################################6 |  99% \u001b[A\n",
      "\n",
      "\n",
      "conda-package-handli | 268 KB    | ##################################### | 100% \u001b[A\u001b[A\u001b[A\n",
      "                                                                                \u001b[A\n",
      "                                                                                \u001b[A\n",
      "\n",
      "                                                                                \u001b[A\u001b[A\n",
      "\n",
      "\n",
      "                                                                                \u001b[A\u001b[A\u001b[A\n",
      "Preparing transaction: done\n",
      "Verifying transaction: done\n",
      "Executing transaction: done\n",
      "\n",
      "Note: you may need to restart the kernel to use updated packages.\n"
     ]
    }
   ],
   "source": [
    "conda update -n base -c defaults conda"
   ]
  },
  {
   "cell_type": "code",
   "execution_count": 4,
   "id": "dc3d34ef",
   "metadata": {},
   "outputs": [
    {
     "name": "stdout",
     "output_type": "stream",
     "text": [
      "Collecting package metadata (current_repodata.json): done\n",
      "Solving environment: done\n",
      "\n",
      "\n",
      "==> WARNING: A newer version of conda exists. <==\n",
      "  current version: 22.11.1\n",
      "  latest version: 23.7.2\n",
      "\n",
      "Please update conda by running\n",
      "\n",
      "    $ conda update -n base -c defaults conda\n",
      "\n",
      "Or to minimize the number of packages updated during conda update use\n",
      "\n",
      "     conda install conda=23.7.2\n",
      "\n",
      "\n",
      "\n",
      "## Package Plan ##\n",
      "\n",
      "  environment location: /Users/evanhadd/opt/anaconda3\n",
      "\n",
      "  added / updated specs:\n",
      "    - pytorch\n",
      "    - torchvision\n",
      "\n",
      "\n",
      "The following NEW packages will be INSTALLED:\n",
      "\n",
      "  ffmpeg             pytorch/osx-64::ffmpeg-4.3-h0a44026_0 \n",
      "  gnutls             pkgs/main/osx-64::gnutls-3.6.15-hed9c0bf_0 \n",
      "  lame               pkgs/main/osx-64::lame-3.100-h1de35cc_0 \n",
      "  libtasn1           pkgs/main/osx-64::libtasn1-4.19.0-h6c40b1e_0 \n",
      "  nettle             pkgs/main/osx-64::nettle-3.7.3-h230ac6f_1 \n",
      "  openh264           pkgs/main/osx-64::openh264-2.1.1-h8346a28_0 \n",
      "  pytorch            pytorch/osx-64::pytorch-2.0.1-py3.9_0 \n",
      "  torchvision        pytorch/osx-64::torchvision-0.15.2-py39_cpu \n",
      "\n",
      "\n",
      "\n",
      "Downloading and Extracting Packages\n",
      "\n",
      "Preparing transaction: done\n",
      "Verifying transaction: done\n",
      "Executing transaction: done\n",
      "\n",
      "Note: you may need to restart the kernel to use updated packages.\n"
     ]
    }
   ],
   "source": [
    "conda install pytorch torchvision -c pytorch"
   ]
  },
  {
   "cell_type": "code",
   "execution_count": 5,
   "id": "a904c0bf",
   "metadata": {},
   "outputs": [],
   "source": [
    "import torch\n",
    "import torchvision\n",
    "import torchvision.transforms as transforms\n",
    "import torch.nn as nn\n",
    "import torch.nn.functional as F\n",
    "import matplotlib.pyplot as plt\n",
    "import numpy as np\n",
    "import torch.optim as optim\n",
    "import tqdm"
   ]
  },
  {
   "cell_type": "code",
   "execution_count": 6,
   "id": "4b220165",
   "metadata": {},
   "outputs": [],
   "source": [
    "import requests\n",
    "file_url = \"https://github.com/jgscott/STA380/tree/master/data/EuroSAT_RGB\"\n",
    "response = requests.get(file_url)\n",
    "file_content = response.text"
   ]
  },
  {
   "cell_type": "code",
   "execution_count": 8,
   "id": "62b04d7f",
   "metadata": {},
   "outputs": [
    {
     "ename": "TypeError",
     "evalue": "'str' object is not callable",
     "output_type": "error",
     "traceback": [
      "\u001b[0;31m---------------------------------------------------------------------------\u001b[0m",
      "\u001b[0;31mTypeError\u001b[0m                                 Traceback (most recent call last)",
      "\u001b[0;32m/var/folders/m2/b8l4_05d1p39hmx00f4y_czr0000gn/T/ipykernel_69316/2435528124.py\u001b[0m in \u001b[0;36m<module>\u001b[0;34m\u001b[0m\n\u001b[1;32m      4\u001b[0m                                 transforms.Normalize((0.5,), (0.5,))])\n\u001b[1;32m      5\u001b[0m \u001b[0;34m\u001b[0m\u001b[0m\n\u001b[0;32m----> 6\u001b[0;31m trainset = file_content(root='./data', train=True,\n\u001b[0m\u001b[1;32m      7\u001b[0m                                       download=True, transform=transform)\n",
      "\u001b[0;31mTypeError\u001b[0m: 'str' object is not callable"
     ]
    }
   ],
   "source": [
    "# Transform data\n",
    "\n",
    "transform = transforms.Compose([transforms.ToTensor(),\n",
    "                                transforms.Normalize((0.5,), (0.5,))])\n",
    "\n",
    "trainset = file_content(root='./data', train=True,\n",
    "                                      download=True, transform=transform)\n"
   ]
  }
 ],
 "metadata": {
  "kernelspec": {
   "display_name": "Python 3 (ipykernel)",
   "language": "python",
   "name": "python3"
  },
  "language_info": {
   "codemirror_mode": {
    "name": "ipython",
    "version": 3
   },
   "file_extension": ".py",
   "mimetype": "text/x-python",
   "name": "python",
   "nbconvert_exporter": "python",
   "pygments_lexer": "ipython3",
   "version": "3.9.13"
  }
 },
 "nbformat": 4,
 "nbformat_minor": 5
}
